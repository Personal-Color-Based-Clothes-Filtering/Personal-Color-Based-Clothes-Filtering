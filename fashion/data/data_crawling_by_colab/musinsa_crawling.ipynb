{
  "nbformat": 4,
  "nbformat_minor": 0,
  "metadata": {
    "colab": {
      "name": "musinsa_crawling.ipynb",
      "provenance": [],
      "collapsed_sections": [
        "UroXGunO7Krz"
      ]
    },
    "kernelspec": {
      "name": "python3",
      "display_name": "Python 3"
    },
    "language_info": {
      "name": "python"
    }
  },
  "cells": [
    {
      "cell_type": "markdown",
      "metadata": {
        "id": "_PnyUIObCcoY"
      },
      "source": [
        "# 1. Setting"
      ]
    },
    {
      "cell_type": "code",
      "metadata": {
        "id": "Aby7_EcmCc8K"
      },
      "source": [
        "!pip install Selenium\n",
        "!apt-get update\n",
        "!apt install chromium-chromedriver"
      ],
      "execution_count": null,
      "outputs": []
    },
    {
      "cell_type": "code",
      "metadata": {
        "id": "J_-r_7RnCmZ8"
      },
      "source": [
        "# 필요한 라이브러리 세팅\n",
        "from selenium import webdriver\n",
        "import time\n",
        "from bs4 import BeautifulSoup\n",
        "\n",
        "import pandas as pd\n",
        "import numpy as np\n",
        "from tqdm import tqdm"
      ],
      "execution_count": null,
      "outputs": []
    },
    {
      "cell_type": "code",
      "metadata": {
        "colab": {
          "base_uri": "https://localhost:8080/"
        },
        "id": "mgUs358KFwf-",
        "outputId": "00abd1ad-e0d3-4585-f1b2-d84c9bdf0250"
      },
      "source": [
        "chrome_options = webdriver.ChromeOptions()\n",
        "chrome_options.add_argument('--headless')\n",
        "chrome_options.add_argument('--no-sandbox')\n",
        "chrome_options.add_argument('--disable-dev-shm-usage')\n",
        "driver = webdriver.Chrome('chromedriver', chrome_options=chrome_options)"
      ],
      "execution_count": null,
      "outputs": [
        {
          "output_type": "stream",
          "name": "stderr",
          "text": [
            "/usr/local/lib/python3.7/dist-packages/ipykernel_launcher.py:5: DeprecationWarning: use options instead of chrome_options\n",
            "  \"\"\"\n"
          ]
        }
      ]
    },
    {
      "cell_type": "code",
      "metadata": {
        "colab": {
          "base_uri": "https://localhost:8080/"
        },
        "id": "SE7kjoJaFbgs",
        "outputId": "7ffd7dda-87c7-4754-cb76-c237710272bd"
      },
      "source": [
        "from google.colab import drive\n",
        "drive.mount(\"/content/drive\", force_remount=True)"
      ],
      "execution_count": null,
      "outputs": [
        {
          "output_type": "stream",
          "name": "stdout",
          "text": [
            "Mounted at /content/drive\n"
          ]
        }
      ]
    },
    {
      "cell_type": "markdown",
      "metadata": {
        "id": "WN-9xfCUurzy"
      },
      "source": [
        "# 2. 데이터 크롤링"
      ]
    },
    {
      "cell_type": "code",
      "metadata": {
        "id": "zeaO5Roh23Uv"
      },
      "source": [
        "# 카테고리별 url\n",
        "category_list = ['https://www.musinsa.com/category/001001?d_cat_cd=001001&brand=&rate=&page_kind=search&list_kind=small&sort=pop&sub_sort=&page={}&display_cnt=90&sale_goods=&group_sale=&ex_soldout=&color={}&price1=&price2=&exclusive_yn=&shoeSizeOption=&tags=&campaign_id=&timesale_yn=&q=&includeKeywords=&measure=',\n",
        "      'https://www.musinsa.com/category/001010?d_cat_cd=001010&brand=&rate=&page_kind=search&list_kind=small&sort=pop&sub_sort=&page={}&display_cnt=90&sale_goods=&group_sale=&ex_soldout=&color={}&price1=&price2=&exclusive_yn=&shoeSizeOption=&tags=&campaign_id=&timesale_yn=&q=&includeKeywords=&measure=',\n",
        "      'https://www.musinsa.com/category/001011?d_cat_cd=001011&brand=&rate=&page_kind=search&list_kind=small&sort=pop&sub_sort=&page={}&display_cnt=90&sale_goods=&group_sale=&ex_soldout=&color={}&price1=&price2=&exclusive_yn=&shoeSizeOption=&tags=&campaign_id=&timesale_yn=&q=&includeKeywords=&measure=',\n",
        "      'https://www.musinsa.com/category/001002?d_cat_cd=001002&brand=&rate=&page_kind=search&list_kind=small&sort=pop&sub_sort=&page={}&display_cnt=90&sale_goods=&group_sale=&ex_soldout=&color={}&price1=&price2=&exclusive_yn=&shoeSizeOption=&tags=&campaign_id=&timesale_yn=&q=&includeKeywords=&measure=',\n",
        "      'https://www.musinsa.com/category/001003?d_cat_cd=001003&brand=&rate=&page_kind=search&list_kind=small&sort=pop&sub_sort=&page={}&display_cnt=90&sale_goods=&group_sale=&ex_soldout=&color={}&price1=&price2=&exclusive_yn=&shoeSizeOption=&tags=&campaign_id=&timesale_yn=&q=&includeKeywords=&measure=',\n",
        "      'https://www.musinsa.com/category/001005?d_cat_cd=001005&brand=&rate=&page_kind=search&list_kind=small&sort=pop&sub_sort=&page={}&display_cnt=90&sale_goods=&group_sale=&ex_soldout=&color={}&price1=&price2=&exclusive_yn=&shoeSizeOption=&tags=&campaign_id=&timesale_yn=&q=&includeKeywords=&measure=',\n",
        "      'https://www.musinsa.com/category/001004?d_cat_cd=001004&brand=&rate=&page_kind=search&list_kind=small&sort=pop&sub_sort=&page={}&display_cnt=90&sale_goods=&group_sale=&ex_soldout=&color={}&price1=&price2=&exclusive_yn=&shoeSizeOption=&tags=&campaign_id=&timesale_yn=&q=&includeKeywords=&measure=',\n",
        "      'https://www.musinsa.com/category/001006?d_cat_cd=001006&brand=&rate=&page_kind=search&list_kind=small&sort=pop&sub_sort=&page={}&display_cnt=90&sale_goods=&group_sale=&ex_soldout=&color={}&price1=&price2=&exclusive_yn=&shoeSizeOption=&tags=&campaign_id=&timesale_yn=&q=&includeKeywords=&measure='\n",
        "      ]\n",
        "\n",
        "df_name_list = ['shortsleeve', 'longsleeve', 'sleeveless', 'shirt',\n",
        "                'collar', 'sweat', 'hoodie', 'sweater']"
      ],
      "execution_count": null,
      "outputs": []
    },
    {
      "cell_type": "code",
      "metadata": {
        "id": "WDPv2dc12G42"
      },
      "source": [
        "def get_musinsa_data(li):\n",
        "  # 사전 세팅\n",
        "  global musinsa_df\n",
        "  musinsa_url = []\n",
        "  result = {}\n",
        "  color = {\n",
        "    3 : '회색',\n",
        "    11 : '빨간색',\n",
        "    10 : '분홍색',\n",
        "    12 : '주황색',\n",
        "    9 : '노란색',\n",
        "    6 : '녹색',\n",
        "    7 : '파란색',\n",
        "    8 : '보라색',\n",
        "    4 : '갈색',\n",
        "    29 : '샌드'\n",
        "  }\n",
        "\n",
        "  for key in color: # 1 페이지만\n",
        "    musinsa_url.append(li.format(1, key))\n",
        "\n",
        "  for i in range(len(musinsa_url)):\n",
        "    # url 연결 및 태그 가져오기\n",
        "    driver.get(musinsa_url[i])\n",
        "    time.sleep(3) # 3초 대기 - HTTPConnectionPool 오류를 해결하기 위함\n",
        "\n",
        "    pageString = driver.page_source\n",
        "    soup = BeautifulSoup(pageString, features=\"html.parser\")\n",
        "    if soup.find(name='div', attrs = {'class': 'error-network-text'}):\n",
        "      continue\n",
        "    \n",
        "    # 필요한 데이터만 가져오기 위한 준비\n",
        "    list_box = soup.find(name='div', attrs = {'class': 'list-box box'}).find_all('li',{'class':'li_box'})\n",
        "    if len(list_box) == 0:\n",
        "      continue\n",
        "    else:\n",
        "      for j in range(0, len(list_box)):\n",
        "        try:\n",
        "          ## 브랜드명\n",
        "          brand_name = list_box[j].find('p', attrs = {'class' : 'item_title'}).text\n",
        "          ## 판매가격 (list - 정가, 할인가)\n",
        "          price = list_box[j].find('p', attrs = {'class' : 'price'}).text.replace(' ', '').replace('\\n', '').split('원')[:2]\n",
        "          ## url, 의류명, 썸네일\n",
        "          clothes_info3 = str(list_box[j].find('a', attrs = {'class' : 'img-block'})) # 세 정보가 들어있는 태그 -> string화\n",
        "          ### 1) url\n",
        "          url = clothes_info3.split('href=')[1].split('\"')[1]\n",
        "          ### 2) 의류명\n",
        "          clothes_name = clothes_info3.split('title=')[1].split(\">\")[0].replace('\"','')\n",
        "          ### 3) 썸네일\n",
        "          thumbnail = clothes_info3.split('data-original=')[1].split(' ')[0].replace('\"', '').replace('_125', '_500')\n",
        "          ## 색상명\n",
        "          color = musinsa_url[i].split('color=')[1].split('&')[0]\n",
        "\n",
        "          result[url] = [brand_name, clothes_name, price[0], price[1], thumbnail, color]\n",
        "      \n",
        "        except(ValueError, AttributeError, IndexError, TypeError):\n",
        "          pass\n",
        "\n",
        "  # 데이터 프레임화\n",
        "  musinsa_df = pd.DataFrame(result)\n",
        "  musinsa_df = musinsa_df.transpose()\n",
        "\n",
        "  return musinsa_df"
      ],
      "execution_count": null,
      "outputs": []
    },
    {
      "cell_type": "code",
      "source": [
        "for i in tqdm(range(len(category_list))):\n",
        "  get_musinsa_data(category_list[i])\n",
        "  musinsa_df = musinsa_df.reset_index()\n",
        "  musinsa_df.rename(columns={'index' : 'url'}, inplace=True)\n",
        "  musinsa_df['category'] = df_name_list[i]\n",
        "  musinsa_df.columns = ['url', 'brand', 'name', 'price', 'discount_price', 'thumbnail', 'color', 'category']\n",
        "  musinsa_df.to_csv('/content/drive/MyDrive/MUSINSA/data/'+ df_name_list[i] + '.csv', encoding='utf-8-sig')\n",
        "\n",
        "musinsa_df"
      ],
      "metadata": {
        "colab": {
          "base_uri": "https://localhost:8080/",
          "height": 835
        },
        "id": "JykBpPQM3BfQ",
        "outputId": "8b6ef885-3471-4392-9c92-9b31e1cdd9fc"
      },
      "execution_count": null,
      "outputs": [
        {
          "output_type": "stream",
          "name": "stderr",
          "text": [
            "100%|██████████| 8/8 [10:26<00:00, 78.35s/it]\n"
          ]
        },
        {
          "output_type": "execute_result",
          "data": {
            "text/html": [
              "\n",
              "  <div id=\"df-394f9e7d-ce6a-4c33-901a-ea0a0e8797a1\">\n",
              "    <div class=\"colab-df-container\">\n",
              "      <div>\n",
              "<style scoped>\n",
              "    .dataframe tbody tr th:only-of-type {\n",
              "        vertical-align: middle;\n",
              "    }\n",
              "\n",
              "    .dataframe tbody tr th {\n",
              "        vertical-align: top;\n",
              "    }\n",
              "\n",
              "    .dataframe thead th {\n",
              "        text-align: right;\n",
              "    }\n",
              "</style>\n",
              "<table border=\"1\" class=\"dataframe\">\n",
              "  <thead>\n",
              "    <tr style=\"text-align: right;\">\n",
              "      <th></th>\n",
              "      <th>url</th>\n",
              "      <th>brand</th>\n",
              "      <th>name</th>\n",
              "      <th>price</th>\n",
              "      <th>discount_price</th>\n",
              "      <th>thumbnail</th>\n",
              "      <th>color</th>\n",
              "      <th>category</th>\n",
              "    </tr>\n",
              "  </thead>\n",
              "  <tbody>\n",
              "    <tr>\n",
              "      <th>0</th>\n",
              "      <td>https://store.musinsa.com/app/goods/1599217</td>\n",
              "      <td>테이크이지</td>\n",
              "      <td>램스울 크루넥 오버니트(연차콜)</td>\n",
              "      <td>54,000</td>\n",
              "      <td>37,800</td>\n",
              "      <td>https://image.msscdn.net/images/goods_img/2020...</td>\n",
              "      <td>3</td>\n",
              "      <td>sweater</td>\n",
              "    </tr>\n",
              "    <tr>\n",
              "      <th>1</th>\n",
              "      <td>https://store.musinsa.com/app/goods/1723790</td>\n",
              "      <td>라퍼지스토어</td>\n",
              "      <td>울 오버 헨리넥 니트_Gray</td>\n",
              "      <td>68,000</td>\n",
              "      <td>45,900</td>\n",
              "      <td>https://image.msscdn.net/images/goods_img/2020...</td>\n",
              "      <td>3</td>\n",
              "      <td>sweater</td>\n",
              "    </tr>\n",
              "    <tr>\n",
              "      <th>2</th>\n",
              "      <td>https://store.musinsa.com/app/goods/1736057</td>\n",
              "      <td>테이크이지</td>\n",
              "      <td>램스울 크루넥 오버니트(헤더그레이)</td>\n",
              "      <td>54,000</td>\n",
              "      <td>37,800</td>\n",
              "      <td>https://image.msscdn.net/images/goods_img/2021...</td>\n",
              "      <td>3</td>\n",
              "      <td>sweater</td>\n",
              "    </tr>\n",
              "    <tr>\n",
              "      <th>3</th>\n",
              "      <td>https://store.musinsa.com/app/goods/2226767</td>\n",
              "      <td>드로우핏</td>\n",
              "      <td>오버사이즈 집업 카라 터틀넥 니트 [M.GREY]</td>\n",
              "      <td>76,000</td>\n",
              "      <td>68,400</td>\n",
              "      <td>https://image.msscdn.net/images/goods_img/2021...</td>\n",
              "      <td>3</td>\n",
              "      <td>sweater</td>\n",
              "    </tr>\n",
              "    <tr>\n",
              "      <th>4</th>\n",
              "      <td>https://store.musinsa.com/app/goods/1191494</td>\n",
              "      <td>테이크이지</td>\n",
              "      <td>램스울 크루넥 오버니트(그레이)</td>\n",
              "      <td>54,000</td>\n",
              "      <td>37,800</td>\n",
              "      <td>https://image.msscdn.net/images/goods_img/2019...</td>\n",
              "      <td>3</td>\n",
              "      <td>sweater</td>\n",
              "    </tr>\n",
              "    <tr>\n",
              "      <th>...</th>\n",
              "      <td>...</td>\n",
              "      <td>...</td>\n",
              "      <td>...</td>\n",
              "      <td>...</td>\n",
              "      <td>...</td>\n",
              "      <td>...</td>\n",
              "      <td>...</td>\n",
              "      <td>...</td>\n",
              "    </tr>\n",
              "    <tr>\n",
              "      <th>895</th>\n",
              "      <td>https://store.musinsa.com/app/goods/1609018</td>\n",
              "      <td>컨셉원</td>\n",
              "      <td>050907 캐시미어 블렌드 스웨터 (10050907)</td>\n",
              "      <td>89,800</td>\n",
              "      <td>38,000</td>\n",
              "      <td>https://image.msscdn.net/images/goods_img/2020...</td>\n",
              "      <td>29</td>\n",
              "      <td>sweater</td>\n",
              "    </tr>\n",
              "    <tr>\n",
              "      <th>896</th>\n",
              "      <td>https://store.musinsa.com/app/goods/2258364</td>\n",
              "      <td>암피스트</td>\n",
              "      <td>BEIGE BIG POCKET SWEATER</td>\n",
              "      <td>139,000</td>\n",
              "      <td>97,300</td>\n",
              "      <td>https://image.msscdn.net/images/goods_img/2021...</td>\n",
              "      <td>29</td>\n",
              "      <td>sweater</td>\n",
              "    </tr>\n",
              "    <tr>\n",
              "      <th>897</th>\n",
              "      <td>https://store.musinsa.com/app/goods/1727926</td>\n",
              "      <td>가인드</td>\n",
              "      <td>BASIC LOGO KNIT</td>\n",
              "      <td>89,000</td>\n",
              "      <td>40,000</td>\n",
              "      <td>https://image.msscdn.net/images/goods_img/2020...</td>\n",
              "      <td>29</td>\n",
              "      <td>sweater</td>\n",
              "    </tr>\n",
              "    <tr>\n",
              "      <th>898</th>\n",
              "      <td>https://store.musinsa.com/app/goods/2218879</td>\n",
              "      <td>베르노</td>\n",
              "      <td>21FW_16gauge Mock-neck_Knit_Light-Khaki</td>\n",
              "      <td>128,000</td>\n",
              "      <td></td>\n",
              "      <td>https://image.msscdn.net/images/goods_img/2021...</td>\n",
              "      <td>29</td>\n",
              "      <td>sweater</td>\n",
              "    </tr>\n",
              "    <tr>\n",
              "      <th>899</th>\n",
              "      <td>https://store.musinsa.com/app/goods/2277568</td>\n",
              "      <td>케리에르</td>\n",
              "      <td>CASHMERE BLEND SHAWL PANEL LONG SLEEVE KNIT TOP</td>\n",
              "      <td>144,000</td>\n",
              "      <td>100,800</td>\n",
              "      <td>https://image.msscdn.net/images/goods_img/2021...</td>\n",
              "      <td>29</td>\n",
              "      <td>sweater</td>\n",
              "    </tr>\n",
              "  </tbody>\n",
              "</table>\n",
              "<p>900 rows × 8 columns</p>\n",
              "</div>\n",
              "      <button class=\"colab-df-convert\" onclick=\"convertToInteractive('df-394f9e7d-ce6a-4c33-901a-ea0a0e8797a1')\"\n",
              "              title=\"Convert this dataframe to an interactive table.\"\n",
              "              style=\"display:none;\">\n",
              "        \n",
              "  <svg xmlns=\"http://www.w3.org/2000/svg\" height=\"24px\"viewBox=\"0 0 24 24\"\n",
              "       width=\"24px\">\n",
              "    <path d=\"M0 0h24v24H0V0z\" fill=\"none\"/>\n",
              "    <path d=\"M18.56 5.44l.94 2.06.94-2.06 2.06-.94-2.06-.94-.94-2.06-.94 2.06-2.06.94zm-11 1L8.5 8.5l.94-2.06 2.06-.94-2.06-.94L8.5 2.5l-.94 2.06-2.06.94zm10 10l.94 2.06.94-2.06 2.06-.94-2.06-.94-.94-2.06-.94 2.06-2.06.94z\"/><path d=\"M17.41 7.96l-1.37-1.37c-.4-.4-.92-.59-1.43-.59-.52 0-1.04.2-1.43.59L10.3 9.45l-7.72 7.72c-.78.78-.78 2.05 0 2.83L4 21.41c.39.39.9.59 1.41.59.51 0 1.02-.2 1.41-.59l7.78-7.78 2.81-2.81c.8-.78.8-2.07 0-2.86zM5.41 20L4 18.59l7.72-7.72 1.47 1.35L5.41 20z\"/>\n",
              "  </svg>\n",
              "      </button>\n",
              "      \n",
              "  <style>\n",
              "    .colab-df-container {\n",
              "      display:flex;\n",
              "      flex-wrap:wrap;\n",
              "      gap: 12px;\n",
              "    }\n",
              "\n",
              "    .colab-df-convert {\n",
              "      background-color: #E8F0FE;\n",
              "      border: none;\n",
              "      border-radius: 50%;\n",
              "      cursor: pointer;\n",
              "      display: none;\n",
              "      fill: #1967D2;\n",
              "      height: 32px;\n",
              "      padding: 0 0 0 0;\n",
              "      width: 32px;\n",
              "    }\n",
              "\n",
              "    .colab-df-convert:hover {\n",
              "      background-color: #E2EBFA;\n",
              "      box-shadow: 0px 1px 2px rgba(60, 64, 67, 0.3), 0px 1px 3px 1px rgba(60, 64, 67, 0.15);\n",
              "      fill: #174EA6;\n",
              "    }\n",
              "\n",
              "    [theme=dark] .colab-df-convert {\n",
              "      background-color: #3B4455;\n",
              "      fill: #D2E3FC;\n",
              "    }\n",
              "\n",
              "    [theme=dark] .colab-df-convert:hover {\n",
              "      background-color: #434B5C;\n",
              "      box-shadow: 0px 1px 3px 1px rgba(0, 0, 0, 0.15);\n",
              "      filter: drop-shadow(0px 1px 2px rgba(0, 0, 0, 0.3));\n",
              "      fill: #FFFFFF;\n",
              "    }\n",
              "  </style>\n",
              "\n",
              "      <script>\n",
              "        const buttonEl =\n",
              "          document.querySelector('#df-394f9e7d-ce6a-4c33-901a-ea0a0e8797a1 button.colab-df-convert');\n",
              "        buttonEl.style.display =\n",
              "          google.colab.kernel.accessAllowed ? 'block' : 'none';\n",
              "\n",
              "        async function convertToInteractive(key) {\n",
              "          const element = document.querySelector('#df-394f9e7d-ce6a-4c33-901a-ea0a0e8797a1');\n",
              "          const dataTable =\n",
              "            await google.colab.kernel.invokeFunction('convertToInteractive',\n",
              "                                                     [key], {});\n",
              "          if (!dataTable) return;\n",
              "\n",
              "          const docLinkHtml = 'Like what you see? Visit the ' +\n",
              "            '<a target=\"_blank\" href=https://colab.research.google.com/notebooks/data_table.ipynb>data table notebook</a>'\n",
              "            + ' to learn more about interactive tables.';\n",
              "          element.innerHTML = '';\n",
              "          dataTable['output_type'] = 'display_data';\n",
              "          await google.colab.output.renderOutput(dataTable, element);\n",
              "          const docLink = document.createElement('div');\n",
              "          docLink.innerHTML = docLinkHtml;\n",
              "          element.appendChild(docLink);\n",
              "        }\n",
              "      </script>\n",
              "    </div>\n",
              "  </div>\n",
              "  "
            ],
            "text/plain": [
              "                                             url   brand  ... color category\n",
              "0    https://store.musinsa.com/app/goods/1599217   테이크이지  ...     3  sweater\n",
              "1    https://store.musinsa.com/app/goods/1723790  라퍼지스토어  ...     3  sweater\n",
              "2    https://store.musinsa.com/app/goods/1736057   테이크이지  ...     3  sweater\n",
              "3    https://store.musinsa.com/app/goods/2226767    드로우핏  ...     3  sweater\n",
              "4    https://store.musinsa.com/app/goods/1191494   테이크이지  ...     3  sweater\n",
              "..                                           ...     ...  ...   ...      ...\n",
              "895  https://store.musinsa.com/app/goods/1609018     컨셉원  ...    29  sweater\n",
              "896  https://store.musinsa.com/app/goods/2258364    암피스트  ...    29  sweater\n",
              "897  https://store.musinsa.com/app/goods/1727926     가인드  ...    29  sweater\n",
              "898  https://store.musinsa.com/app/goods/2218879     베르노  ...    29  sweater\n",
              "899  https://store.musinsa.com/app/goods/2277568    케리에르  ...    29  sweater\n",
              "\n",
              "[900 rows x 8 columns]"
            ]
          },
          "metadata": {},
          "execution_count": 10
        }
      ]
    },
    {
      "cell_type": "code",
      "source": [
        "df_name_list = ['shortsleeve', 'longsleeve', 'sleeveless', 'shirt',\n",
        "                'collar', 'sweat', 'hoodie', 'sweater']\n",
        "\n",
        "# 개별 데이터 저장\n",
        "shortsleeve_df = pd.read_csv('/content/drive/MyDrive/MUSINSA/data/' + df_name_list[0] + '.csv')\n",
        "longsleeve_df = pd.read_csv('/content/drive/MyDrive/MUSINSA/data/' + df_name_list[1] + '.csv')\n",
        "sleeveless_df = pd.read_csv('/content/drive/MyDrive/MUSINSA/data/' + df_name_list[2] + '.csv') #533\n",
        "shirt_df = pd.read_csv('/content/drive/MyDrive/MUSINSA/data/' + df_name_list[3] + '.csv')\n",
        "collar_df = pd.read_csv('/content/drive/MyDrive/MUSINSA/data/' + df_name_list[4] + '.csv') #695\n",
        "sweat_df = pd.read_csv('/content/drive/MyDrive/MUSINSA/data/' + df_name_list[5] + '.csv')\n",
        "hoodie_df = pd.read_csv('/content/drive/MyDrive/MUSINSA/data/' + df_name_list[6] + '.csv')\n",
        "sweater_df = pd.read_csv('/content/drive/MyDrive/MUSINSA/data/' + df_name_list[7] + '.csv')"
      ],
      "metadata": {
        "id": "JeIXoRKssTHI"
      },
      "execution_count": null,
      "outputs": []
    },
    {
      "cell_type": "code",
      "source": [
        "# 전체 의류 데이터 저장\n",
        "final_musinsa = pd.concat([shortsleeve_df, longsleeve_df, sleeveless_df, shirt_df, collar_df, sweat_df, hoodie_df, sweater_df])\n",
        "final_musinsa = final_musinsa[['url', 'brand', 'name', 'price', 'discount_price', 'thumbnail', 'color', 'category']]\n",
        "final_musinsa.to_csv('/content/drive/MyDrive/MUSINSA/data/clothes.csv', encoding='utf-8-sig')"
      ],
      "metadata": {
        "id": "g9MFq8YGuMXv"
      },
      "execution_count": null,
      "outputs": []
    },
    {
      "cell_type": "markdown",
      "metadata": {
        "id": "EPfkwBumuYcv"
      },
      "source": [
        "# 3. Thumbnail 이미지 저장하기"
      ]
    },
    {
      "cell_type": "code",
      "metadata": {
        "id": "pkh5swWXVtog",
        "colab": {
          "base_uri": "https://localhost:8080/"
        },
        "outputId": "7ba79135-2ee0-4585-af00-6c746314beaa"
      },
      "source": [
        "import urllib.request\n",
        "import time\n",
        "from PIL import Image\n",
        "import pandas as pd\n",
        "\n",
        "musinsa_url = '/content/drive/MyDrive/MUSINSA/data/clothes.csv'\n",
        "musinsa_df = pd.read_csv(musinsa_url)\n",
        "musinsa_df = musinsa_df.drop([musinsa_df.columns[0]], axis='columns')\n",
        "\n",
        "for j in tqdm(range(len(musinsa_df))):\n",
        "  # 다운받을 썸네일(이미지) url\n",
        "  thumbnail_url = musinsa_df['thumbnail'][j] \n",
        "\n",
        "  # 이미지 요청 및 다운로드\n",
        "  thumbnail_name = musinsa_df['url'][j].split('/')[-1] + \".jpg\"\n",
        "  urllib.request.urlretrieve(thumbnail_url, '/content/drive/MyDrive/MUSINSA/thumbnail/' + thumbnail_name)"
      ],
      "execution_count": null,
      "outputs": [
        {
          "output_type": "stream",
          "name": "stderr",
          "text": [
            "100%|██████████| 6628/6628 [1:22:54<00:00,  1.33it/s]\n"
          ]
        }
      ]
    },
    {
      "cell_type": "code",
      "metadata": {
        "id": "Fbjc6OvdYVyQ",
        "colab": {
          "base_uri": "https://localhost:8080/"
        },
        "outputId": "c1f6cf49-b43c-4933-b5d1-150ba18652d1"
      },
      "source": [
        "import os\n",
        "\n",
        "image_list = os.listdir('/content/drive/MyDrive/MUSINSA/thumbnail')\n",
        "len(image_list)"
      ],
      "execution_count": null,
      "outputs": [
        {
          "output_type": "execute_result",
          "data": {
            "text/plain": [
              "6628"
            ]
          },
          "metadata": {},
          "execution_count": 2
        }
      ]
    }
  ]
}